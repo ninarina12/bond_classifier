{
 "cells": [
  {
   "cell_type": "code",
   "execution_count": null,
   "id": "63819ec1",
   "metadata": {},
   "outputs": [],
   "source": [
    "# imports\n",
    "import numpy as np\n",
    "import pandas as pd\n",
    "import matplotlib.pyplot as plt\n",
    "\n",
    "from sklearn.decomposition import PCA\n",
    "from scipy.interpolate import griddata\n",
    "from scipy.spatial import Delaunay\n",
    "\n",
    "from utils.data import (load_data, bonds, bond_to_float, calculate_moments,\n",
    "                        plot_cevr, plot_pca, plot_profiles, plot_crystal_graph)\n",
    "from utils.model import load, prepare_data, train_models, plot_scores, predict, plot_confusion_matrix\n",
    "\n",
    "seed = 12"
   ]
  },
  {
   "cell_type": "code",
   "execution_count": null,
   "id": "caca592d",
   "metadata": {},
   "outputs": [],
   "source": [
    "# load data\n",
    "dirname = 'data/'\n",
    "data = load_data(dirname, structure=True, labeled=False, sort=True)"
   ]
  },
  {
   "cell_type": "code",
   "execution_count": null,
   "id": "023ede98",
   "metadata": {},
   "outputs": [],
   "source": [
    "# compute and plot PCA summary\n",
    "X = np.stack(data['elf'].sum())\n",
    "n_components = X.shape[-1]\n",
    "pca = PCA(n_components=n_components, svd_solver='full')\n",
    "z = pca.fit_transform(X)\n",
    "\n",
    "# plot cumulative explained variance\n",
    "plot_cevr(pca.explained_variance_ratio_, 0.999, save_path=None)"
   ]
  },
  {
   "cell_type": "code",
   "execution_count": null,
   "id": "95b2046f",
   "metadata": {},
   "outputs": [],
   "source": [
    "# calculate moments\n",
    "data = calculate_moments(data)"
   ]
  },
  {
   "cell_type": "code",
   "execution_count": null,
   "id": "e640df0c",
   "metadata": {},
   "outputs": [],
   "source": [
    "# plot PC projections\n",
    "plot_pca(z, data, bonds, axes=[0,1,2], save_path=None)"
   ]
  },
  {
   "cell_type": "code",
   "execution_count": null,
   "id": "89baa9d8",
   "metadata": {},
   "outputs": [],
   "source": [
    "# plot profiles along principal axes\n",
    "plot_profiles(z, data, pca, colorby='label', axes=[0,1], save_path=None)"
   ]
  },
  {
   "cell_type": "code",
   "execution_count": null,
   "id": "9d46900e",
   "metadata": {},
   "outputs": [],
   "source": [
    "# train or load model\n",
    "fit = False\n",
    "model_path = 'models/clfs_051022_pc8_en_srt'\n",
    "n_components = 8\n",
    "test_size = 0.15\n",
    "n_models = 100\n",
    "columns = ['en_diff']\n",
    "\n",
    "if fit:\n",
    "    # train models\n",
    "    X_data, y_data, pca, scaler = prepare_data(data, n_components, test_size, seed=seed, pca=None, scaler=None,\n",
    "                                               columns=columns)\n",
    "    CLFs = train_models(X_data, y_data, pca, scaler, n_models=n_models, seed=seed, save_path=model_path)\n",
    "    \n",
    "    # plot model performance on held-out test set\n",
    "    y_pred_mean = np.stack([CLFs['clfs'][i].predict_proba(X_data[1]) for i in range(n_models)]).mean(axis=0)\n",
    "    y_pred_std = np.stack([CLFs['clfs'][i].predict_proba(X_data[1]) for i in range(n_models)]).std(axis=0)\n",
    "    plot_scores(y_pred_mean, y_pred_std, y_data[1], save_path=None)\n",
    "\n",
    "else:\n",
    "    # load models\n",
    "    CLFs = load(model_path + '.joblib')"
   ]
  },
  {
   "cell_type": "code",
   "execution_count": null,
   "id": "a5e48145",
   "metadata": {},
   "outputs": [],
   "source": [
    "# make predictions and optionally save output dataframe\n",
    "data = predict(data, CLFs, columns=columns, save_path=None)"
   ]
  },
  {
   "cell_type": "code",
   "execution_count": null,
   "id": "6ceb81c8",
   "metadata": {},
   "outputs": [],
   "source": [
    "# plot confusion matrix\n",
    "plot_confusion_matrix(data, normalize=False, save_path=None)"
   ]
  },
  {
   "cell_type": "code",
   "execution_count": null,
   "id": "3fc24692",
   "metadata": {},
   "outputs": [],
   "source": [
    "# plot crystal graph with edges colored by predicted bond type\n",
    "plot_crystal_graph(data, index=0, save_path=None)"
   ]
  },
  {
   "cell_type": "code",
   "execution_count": null,
   "id": "c544a270",
   "metadata": {},
   "outputs": [],
   "source": []
  }
 ],
 "metadata": {
  "@webio": {
   "lastCommId": null,
   "lastKernelId": null
  },
  "kernelspec": {
   "display_name": "Python 3 (ipykernel)",
   "language": "python",
   "name": "python3"
  },
  "language_info": {
   "codemirror_mode": {
    "name": "ipython",
    "version": 3
   },
   "file_extension": ".py",
   "mimetype": "text/x-python",
   "name": "python",
   "nbconvert_exporter": "python",
   "pygments_lexer": "ipython3",
   "version": "3.10.4"
  }
 },
 "nbformat": 4,
 "nbformat_minor": 5
}
