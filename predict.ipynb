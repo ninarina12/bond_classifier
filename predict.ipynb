{
 "cells": [
  {
   "cell_type": "code",
   "execution_count": null,
   "id": "e4e51af6",
   "metadata": {},
   "outputs": [],
   "source": [
    "import numpy as np\n",
    "import matplotlib as mpl\n",
    "import matplotlib.pyplot as plt\n",
    "import time, os\n",
    "import cmcrameri.cm as cm\n",
    "\n",
    "from tqdm import tqdm\n",
    "from utils import ELFData, ELFModel"
   ]
  },
  {
   "cell_type": "markdown",
   "id": "7ed9b6ba",
   "metadata": {},
   "source": [
    "## Load and filter data"
   ]
  },
  {
   "cell_type": "code",
   "execution_count": null,
   "id": "d6cc9d6f",
   "metadata": {},
   "outputs": [],
   "source": [
    "# Perform center crop\n",
    "center = False"
   ]
  },
  {
   "cell_type": "code",
   "execution_count": null,
   "id": "7fab4c06",
   "metadata": {},
   "outputs": [],
   "source": [
    "# Load data\n",
    "unlabeled = ELFData()\n",
    "unlabeled.load_processed(dirname='data/unlabeled', structure=False)\n",
    "print('Number of examples:', len(unlabeled.data))\n",
    "unlabeled.data.head()"
   ]
  },
  {
   "cell_type": "code",
   "execution_count": null,
   "id": "84ebbaba",
   "metadata": {},
   "outputs": [],
   "source": [
    "# Center crop\n",
    "if center:\n",
    "    dx = len(unlabeled.data.iloc[0]['elf'])//4\n",
    "    unlabeled.data['elf'] = unlabeled.data['elf'].apply(lambda x: x[dx:-dx])"
   ]
  },
  {
   "cell_type": "code",
   "execution_count": null,
   "id": "bb0abe20",
   "metadata": {},
   "outputs": [],
   "source": [
    "# Sort and filter data\n",
    "unlabeled.data = unlabeled.data[~unlabeled.data['mixed']]\n",
    "unlabeled.get_pdf_cdf()\n",
    "unlabeled.sort_by_cdf()\n",
    "print('Number of examples:', len(unlabeled.data))\n",
    "unlabeled.data.head()"
   ]
  },
  {
   "cell_type": "markdown",
   "id": "06be5566",
   "metadata": {},
   "source": [
    "### Calculate columns"
   ]
  },
  {
   "cell_type": "code",
   "execution_count": null,
   "id": "a9fe4de9",
   "metadata": {},
   "outputs": [],
   "source": [
    "unlabeled.data['pdf-l_srt'] = unlabeled.data[['pdf_srt', 'l']].apply(\n",
    "    lambda x: x.pdf_srt/(x.l/len(x.pdf_srt)), axis=1)\n",
    "\n",
    "unlabeled.data['cdf-A_srt'] = unlabeled.data[['cdf_srt', 'A']].apply(lambda x: x.cdf_srt*x.A, axis=1)"
   ]
  },
  {
   "cell_type": "markdown",
   "id": "5e23a813",
   "metadata": {},
   "source": [
    "## Predict data classes"
   ]
  },
  {
   "cell_type": "code",
   "execution_count": null,
   "id": "f05d46aa",
   "metadata": {},
   "outputs": [],
   "source": [
    "import importlib, sys\n",
    "importlib.reload(sys.modules['utils'])\n",
    "from utils import ELFModel"
   ]
  },
  {
   "cell_type": "code",
   "execution_count": null,
   "id": "10cbe542",
   "metadata": {},
   "outputs": [],
   "source": [
    "n_classes = 4\n",
    "n_components = 10\n",
    "columns = [['elf_srt'], ['pdf_srt'], ['pdf-l_srt'], ['cdf_srt'], ['cdf-A_srt']]\n",
    "features = ['l', 'A']\n",
    "n_estimators = 150\n",
    "max_depth = 12"
   ]
  },
  {
   "cell_type": "markdown",
   "id": "c4a67515",
   "metadata": {},
   "source": [
    "### Load models"
   ]
  },
  {
   "cell_type": "code",
   "execution_count": null,
   "id": "be84840f",
   "metadata": {},
   "outputs": [],
   "source": [
    "savedir = 'models/'\n",
    "if len(columns[0][0].split('_')) > 1:\n",
    "    tag = '_' + columns[0][0].split('_')[-1]\n",
    "else:\n",
    "    tag = ''\n",
    "models = []\n",
    "for column in columns:\n",
    "    column_name = '_'.join([''.join(k.split('_')[:-1]) for k in column]) + tag\n",
    "    path = '_'.join([j + str(k) for (j,k) in zip(['c', 'z', 'n', 'd'],\n",
    "                     [n_classes, n_components, n_estimators, max_depth])] + [column_name] + features)\n",
    "    if center:\n",
    "        path += '_cen'\n",
    "    \n",
    "    models.append(ELFModel(n_classes))\n",
    "    models[-1].load_model(savedir + path)"
   ]
  },
  {
   "cell_type": "markdown",
   "id": "b7b03907",
   "metadata": {},
   "source": [
    "### Predict"
   ]
  },
  {
   "cell_type": "code",
   "execution_count": null,
   "id": "d82d953a",
   "metadata": {},
   "outputs": [],
   "source": [
    "for i in tqdm(range(len(columns)), bar_format=unlabeled.bar_format):\n",
    "    models[i].prepare_inputs(unlabeled.data)\n",
    "    unlabeled.data = models[i].clf_predict(unlabeled.data)"
   ]
  },
  {
   "cell_type": "code",
   "execution_count": null,
   "id": "85465cd9",
   "metadata": {},
   "outputs": [],
   "source": [
    "unlabeled.data.head()"
   ]
  },
  {
   "cell_type": "markdown",
   "id": "a95cf8ae",
   "metadata": {},
   "source": [
    "## Analyze predictions"
   ]
  },
  {
   "cell_type": "markdown",
   "id": "7f59ea0c",
   "metadata": {},
   "source": [
    "### Class distribution per length and area bin"
   ]
  },
  {
   "cell_type": "code",
   "execution_count": null,
   "id": "58a1e905",
   "metadata": {},
   "outputs": [],
   "source": [
    "n_bins = 10\n",
    "_, bins = np.histogram(unlabeled.data['l'], bins=n_bins)\n",
    "unlabeled.data['l_bin'] = np.digitize(unlabeled.data['l'], bins[:-1], right=False).tolist()\n",
    "\n",
    "_, bins = np.histogram(unlabeled.data['A'], bins=n_bins)\n",
    "unlabeled.data['A_bin'] = np.digitize(unlabeled.data['A'], bins[:-1], right=False).tolist()"
   ]
  },
  {
   "cell_type": "code",
   "execution_count": null,
   "id": "8d6a41c4",
   "metadata": {},
   "outputs": [],
   "source": [
    "i = 0\n",
    "index = 0\n",
    "column = '_'.join([''.join(k.split('_')[:-1]) for k in columns[i]]) + tag\n",
    "x = [np.stack(unlabeled.data.loc[unlabeled.data['l_bin']==k,\n",
    "                                 'z_' + columns[i][index]].values) for k in range(1,n_bins+1)]\n",
    "y = [unlabeled.data.loc[unlabeled.data['l_bin']==k, column + '_pred'].values for k in range(1,n_bins+1)]\n",
    "fig = models[i].plot_projection_slices(x=x, y=y, axes=[0,1], cmap=models[i].dmap, order=True, index=index)"
   ]
  },
  {
   "cell_type": "code",
   "execution_count": null,
   "id": "809960dd",
   "metadata": {},
   "outputs": [],
   "source": [
    "x = [np.stack(unlabeled.data.loc[unlabeled.data['A_bin']==k,\n",
    "                                 'z_' + columns[i][index]].values) for k in range(1,n_bins+1)]\n",
    "y = [unlabeled.data.loc[unlabeled.data['A_bin']==k, column + '_pred'].values for k in range(1,n_bins+1)]\n",
    "fig = models[i].plot_projection_slices(x=x, y=y, axes=[0,1], cmap=models[i].dmap, order=True, index=index)"
   ]
  },
  {
   "cell_type": "markdown",
   "id": "603158d6",
   "metadata": {},
   "source": [
    "### Inspect candidate MDHs"
   ]
  },
  {
   "cell_type": "code",
   "execution_count": null,
   "id": "6a969f24",
   "metadata": {},
   "outputs": [],
   "source": [
    "formulas = [473, 479, 736, 816, 1125, 1413, 1511, 1587, 1684, 2306, 2344, 2430, 2975]\n",
    "threshold = 0.6\n",
    "column = columns[0]\n",
    "column_name = '_'.join([''.join(k.split('_')[:-1]) for k in column]) + tag\n",
    "mdh = unlabeled.get_mdhs(column=column_name, n_classes=n_classes, threshold=threshold, formulas=None)"
   ]
  },
  {
   "cell_type": "code",
   "execution_count": null,
   "id": "00b15aed",
   "metadata": {
    "scrolled": true
   },
   "outputs": [],
   "source": [
    "i = 29\n",
    "entry = mdh.iloc[i]\n",
    "print(entry.formula)\n",
    "struct = entry.structure\n",
    "unlabeled.plot_structure(struct, rotation=('0x,0y,0z'));"
   ]
  },
  {
   "cell_type": "code",
   "execution_count": null,
   "id": "78534162",
   "metadata": {},
   "outputs": [],
   "source": [
    "thresholds = np.arange(0.,0.9,0.05)\n",
    "column = columns[0]\n",
    "n_mdh = np.zeros_like(thresholds)\n",
    "for i, threshold in enumerate(thresholds):\n",
    "    column_name = '_'.join([''.join(k.split('_')[:-1]) for k in column]) + tag\n",
    "    try: n_mdh[i] = len(unlabeled.get_mdhs(column_name, n_classes, threshold))\n",
    "    except:\n",
    "        break"
   ]
  },
  {
   "cell_type": "code",
   "execution_count": null,
   "id": "ec5afc1d",
   "metadata": {},
   "outputs": [],
   "source": [
    "fig, ax = plt.subplots(figsize=(5,2))\n",
    "_ax = ax.twinx()\n",
    "ax.plot(thresholds, n_mdh, color='white')\n",
    "_ax.plot(thresholds, 100*n_mdh/len(unlabeled.data), color=unlabeled.palette[0])\n",
    "ax.set_xlabel('Threshold')\n",
    "ax.set_ylabel('Number of candidates');\n",
    "_ax.set_ylabel('Percentage (%)');"
   ]
  },
  {
   "cell_type": "code",
   "execution_count": null,
   "id": "562533b4",
   "metadata": {},
   "outputs": [],
   "source": []
  }
 ],
 "metadata": {
  "kernelspec": {
   "display_name": "Python 3 (ipykernel)",
   "language": "python",
   "name": "python3"
  },
  "language_info": {
   "codemirror_mode": {
    "name": "ipython",
    "version": 3
   },
   "file_extension": ".py",
   "mimetype": "text/x-python",
   "name": "python",
   "nbconvert_exporter": "python",
   "pygments_lexer": "ipython3",
   "version": "3.9.18"
  }
 },
 "nbformat": 4,
 "nbformat_minor": 5
}
